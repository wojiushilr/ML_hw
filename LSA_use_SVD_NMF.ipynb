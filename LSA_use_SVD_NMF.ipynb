{
  "nbformat": 4,
  "nbformat_minor": 0,
  "metadata": {
    "colab": {
      "name": "LSA_use_SVD_NMF.ipynb",
      "provenance": [],
      "toc_visible": true,
      "authorship_tag": "ABX9TyMtRGWrGqosW5IicMx4vVaf",
      "include_colab_link": true
    },
    "kernelspec": {
      "name": "python3",
      "display_name": "Python 3"
    }
  },
  "cells": [
    {
      "cell_type": "markdown",
      "metadata": {
        "id": "view-in-github",
        "colab_type": "text"
      },
      "source": [
        "<a href=\"https://colab.research.google.com/github/wojiushilr/ML_hw/blob/master/LSA_use_SVD_NMF.ipynb\" target=\"_parent\"><img src=\"https://colab.research.google.com/assets/colab-badge.svg\" alt=\"Open In Colab\"/></a>"
      ]
    },
    {
      "cell_type": "markdown",
      "metadata": {
        "id": "vyd1VeBoHPAP",
        "colab_type": "text"
      },
      "source": [
        "## Topic Modeling with NMF and SVD"
      ]
    },
    {
      "cell_type": "markdown",
      "metadata": {
        "id": "kD2EkvWWHeS2",
        "colab_type": "text"
      },
      "source": [
        "### The problem\n",
        "You can refer to this [link](https://github.com/fastai/course-nlp/blob/master/2-svd-nmf-topic-modeling.ipynb)\n",
        "\n",
        "We can decompose the term-document matrix into one tall thin matrix times one wide short matrix (possibly with a diagonal matrix in between).\n",
        "\n",
        "Notice that this representation does not take into account word order or sentence structure. It's an example of a **bag of words** approach.\n",
        "\n",
        "Latent Semantic Analysis (LSA) uses Singular Value Decomposition (SVD)."
      ]
    },
    {
      "cell_type": "markdown",
      "metadata": {
        "id": "rLjHtiE8JBOV",
        "colab_type": "text"
      },
      "source": [
        "### Get start\n",
        "We will try this with two different matrix factorizations: **Singular Value Decomposition (SVD)** and **Non-negative Matrix Factorization (NMF)**"
      ]
    },
    {
      "cell_type": "code",
      "metadata": {
        "id": "rZkXnV10qoNk",
        "colab_type": "code",
        "colab": {}
      },
      "source": [
        "import numpy as np\n",
        "from sklearn.datasets import fetch_20newsgroups\n",
        "from sklearn import decomposition\n",
        "from scipy import linalg\n",
        "import matplotlib.pyplot as plt"
      ],
      "execution_count": null,
      "outputs": []
    },
    {
      "cell_type": "code",
      "metadata": {
        "id": "yF9T7J8D74Ln",
        "colab_type": "code",
        "colab": {}
      },
      "source": [
        "%matplotlib inline\n",
        "np.set_printoptions(suppress=True)"
      ],
      "execution_count": null,
      "outputs": []
    },
    {
      "cell_type": "code",
      "metadata": {
        "id": "dONErASJ2hI9",
        "colab_type": "code",
        "colab": {
          "base_uri": "https://localhost:8080/",
          "height": 34
        },
        "outputId": "acf1e1c2-8127-4e33-83ec-506d4305603f"
      },
      "source": [
        "fetch_20newsgroups"
      ],
      "execution_count": null,
      "outputs": [
        {
          "output_type": "execute_result",
          "data": {
            "text/plain": [
              "<function sklearn.datasets._twenty_newsgroups.fetch_20newsgroups>"
            ]
          },
          "metadata": {
            "tags": []
          },
          "execution_count": 3
        }
      ]
    },
    {
      "cell_type": "markdown",
      "metadata": {
        "id": "qUAxugn4MWki",
        "colab_type": "text"
      },
      "source": [
        "### Explore the dataset\n",
        "We use the sklearn build-in dataset. **Newsgroups**  \n",
        "Newsgroups are discussion groups on Usenet, which was popular in the 80s and 90s before the web really took off. This dataset includes 18,000 newsgroups posts with 20 topics."
      ]
    },
    {
      "cell_type": "code",
      "metadata": {
        "id": "S4ZlSnQ69GX-",
        "colab_type": "code",
        "colab": {
          "base_uri": "https://localhost:8080/",
          "height": 51
        },
        "outputId": "8ac088ce-ac62-48e0-8d66-f2ac64a4484d"
      },
      "source": [
        "categories = ['alt.atheism', 'talk.religion.misc', 'comp.graphics', 'sci.space']\n",
        "remove = ('headers', 'footers', 'quotes')\n",
        "newsgroups_train = fetch_20newsgroups(subset='train', categories=categories, remove=remove)\n",
        "newsgroups_test = fetch_20newsgroups(subset='test', categories=categories, remove=remove)"
      ],
      "execution_count": null,
      "outputs": [
        {
          "output_type": "stream",
          "text": [
            "Downloading 20news dataset. This may take a few minutes.\n",
            "Downloading dataset from https://ndownloader.figshare.com/files/5975967 (14 MB)\n"
          ],
          "name": "stderr"
        }
      ]
    },
    {
      "cell_type": "code",
      "metadata": {
        "id": "dTCpky2P2wQO",
        "colab_type": "code",
        "colab": {
          "base_uri": "https://localhost:8080/",
          "height": 34
        },
        "outputId": "db529236-0456-4d5c-822d-7f23e26f57e3"
      },
      "source": [
        "print(type(newsgroups_train))"
      ],
      "execution_count": null,
      "outputs": [
        {
          "output_type": "stream",
          "text": [
            "<class 'sklearn.utils.Bunch'>\n"
          ],
          "name": "stdout"
        }
      ]
    },
    {
      "cell_type": "code",
      "metadata": {
        "id": "L9bC42I99_S5",
        "colab_type": "code",
        "colab": {
          "base_uri": "https://localhost:8080/",
          "height": 34
        },
        "outputId": "6eaceef9-12cd-42a4-ae56-572d1f9a7b1c"
      },
      "source": [
        "newsgroups_train.filenames.shape, newsgroups_train.target.shape"
      ],
      "execution_count": null,
      "outputs": [
        {
          "output_type": "execute_result",
          "data": {
            "text/plain": [
              "((2034,), (2034,))"
            ]
          },
          "metadata": {
            "tags": []
          },
          "execution_count": 6
        }
      ]
    },
    {
      "cell_type": "code",
      "metadata": {
        "id": "t9zF40Zm28ou",
        "colab_type": "code",
        "colab": {
          "base_uri": "https://localhost:8080/",
          "height": 255
        },
        "outputId": "5ce1ec79-3fe8-4a12-ab46-8c44fc6d170b"
      },
      "source": [
        "print(\"\\n\".join(newsgroups_train.data[:1]))"
      ],
      "execution_count": null,
      "outputs": [
        {
          "output_type": "stream",
          "text": [
            "Hi,\n",
            "\n",
            "I've noticed that if you only save a model (with all your mapping planes\n",
            "positioned carefully) to a .3DS file that when you reload it after restarting\n",
            "3DS, they are given a default position and orientation.  But if you save\n",
            "to a .PRJ file their positions/orientation are preserved.  Does anyone\n",
            "know why this information is not stored in the .3DS file?  Nothing is\n",
            "explicitly said in the manual about saving texture rules in the .PRJ file. \n",
            "I'd like to be able to read the texture rule information, does anyone have \n",
            "the format for the .PRJ file?\n",
            "\n",
            "Is the .CEL file format available from somewhere?\n",
            "\n",
            "Rych\n"
          ],
          "name": "stdout"
        }
      ]
    },
    {
      "cell_type": "markdown",
      "metadata": {
        "id": "14wtDoP9NC_C",
        "colab_type": "text"
      },
      "source": [
        "#### The target attribute is the integer index of the category."
      ]
    },
    {
      "cell_type": "code",
      "metadata": {
        "id": "4F3IjdkC4ygx",
        "colab_type": "code",
        "colab": {
          "base_uri": "https://localhost:8080/",
          "height": 34
        },
        "outputId": "55e47712-4b7d-4aa7-c67f-70071ae72711"
      },
      "source": [
        "[newsgroups_train.target[:3]]"
      ],
      "execution_count": null,
      "outputs": [
        {
          "output_type": "execute_result",
          "data": {
            "text/plain": [
              "[array([1, 3, 2])]"
            ]
          },
          "metadata": {
            "tags": []
          },
          "execution_count": 8
        }
      ]
    },
    {
      "cell_type": "markdown",
      "metadata": {
        "id": "ySJbIL6BNFNH",
        "colab_type": "text"
      },
      "source": [
        "#### Look insight of the target name"
      ]
    },
    {
      "cell_type": "code",
      "metadata": {
        "id": "z6rLaF4t3mjp",
        "colab_type": "code",
        "colab": {
          "base_uri": "https://localhost:8080/",
          "height": 34
        },
        "outputId": "ec0078b4-fedc-40d0-e4e6-46d3dd993d85"
      },
      "source": [
        "np.array(newsgroups_train.target_names)[np.array([1,3,2])]"
      ],
      "execution_count": null,
      "outputs": [
        {
          "output_type": "execute_result",
          "data": {
            "text/plain": [
              "array(['comp.graphics', 'talk.religion.misc', 'sci.space'], dtype='<U18')"
            ]
          },
          "metadata": {
            "tags": []
          },
          "execution_count": 11
        }
      ]
    },
    {
      "cell_type": "code",
      "metadata": {
        "id": "PZPky1B14hTD",
        "colab_type": "code",
        "colab": {}
      },
      "source": [
        "num_topics, num_top_words = 6, 8"
      ],
      "execution_count": null,
      "outputs": []
    },
    {
      "cell_type": "markdown",
      "metadata": {
        "id": "ONyrOoRFNQNq",
        "colab_type": "text"
      },
      "source": [
        "### Stop words, stemming, lemmatization\n",
        "This tech is a little bit out of style. Because for not this information also useful for the complex start-of-art method today.  \n",
        "However, for this task, we use some reletively simple method like SVD, so we only extract the important information.\n"
      ]
    },
    {
      "cell_type": "markdown",
      "metadata": {
        "id": "DZ7AQHK5OCil",
        "colab_type": "text"
      },
      "source": [
        "These were long considered standard techniques, but they can often **hurt your performance if using deep learning**. Stemming, lemmatization, and removing stop words all involve throwing away information.\n",
        "\n",
        "However, they can still be useful when working with simpler models."
      ]
    },
    {
      "cell_type": "code",
      "metadata": {
        "id": "kUnNA2qV6J7w",
        "colab_type": "code",
        "colab": {
          "base_uri": "https://localhost:8080/",
          "height": 357
        },
        "outputId": "bf7c3436-40ae-4c0e-d33c-c5e5317dbaa2"
      },
      "source": [
        "from sklearn.feature_extraction import stop_words\n",
        "\n",
        "sorted(list(stop_words.ENGLISH_STOP_WORDS))[:20]"
      ],
      "execution_count": null,
      "outputs": [
        {
          "output_type": "execute_result",
          "data": {
            "text/plain": [
              "['a',\n",
              " 'about',\n",
              " 'above',\n",
              " 'across',\n",
              " 'after',\n",
              " 'afterwards',\n",
              " 'again',\n",
              " 'against',\n",
              " 'all',\n",
              " 'almost',\n",
              " 'alone',\n",
              " 'along',\n",
              " 'already',\n",
              " 'also',\n",
              " 'although',\n",
              " 'always',\n",
              " 'am',\n",
              " 'among',\n",
              " 'amongst',\n",
              " 'amoungst']"
            ]
          },
          "metadata": {
            "tags": []
          },
          "execution_count": 35
        }
      ]
    },
    {
      "cell_type": "code",
      "metadata": {
        "id": "bH8DDzxg6MEL",
        "colab_type": "code",
        "colab": {
          "base_uri": "https://localhost:8080/",
          "height": 68
        },
        "outputId": "093cc7f2-f972-4706-8125-99203ab6df16"
      },
      "source": [
        "import nltk\n",
        "nltk.download('wordnet')"
      ],
      "execution_count": null,
      "outputs": [
        {
          "output_type": "stream",
          "text": [
            "[nltk_data] Downloading package wordnet to /root/nltk_data...\n",
            "[nltk_data]   Package wordnet is already up-to-date!\n"
          ],
          "name": "stdout"
        },
        {
          "output_type": "execute_result",
          "data": {
            "text/plain": [
              "True"
            ]
          },
          "metadata": {
            "tags": []
          },
          "execution_count": 36
        }
      ]
    },
    {
      "cell_type": "code",
      "metadata": {
        "id": "QpODCRva7gxh",
        "colab_type": "code",
        "colab": {}
      },
      "source": [
        "from nltk import stem"
      ],
      "execution_count": null,
      "outputs": []
    },
    {
      "cell_type": "code",
      "metadata": {
        "id": "fyf97VND7iND",
        "colab_type": "code",
        "colab": {}
      },
      "source": [
        "wnl = stem.WordNetLemmatizer()\n",
        "porter = stem.porter.PorterStemmer()"
      ],
      "execution_count": null,
      "outputs": []
    },
    {
      "cell_type": "code",
      "metadata": {
        "id": "R6qVePlG7kMj",
        "colab_type": "code",
        "colab": {}
      },
      "source": [
        "word_list = ['feet', 'foot', 'foots', 'footing']"
      ],
      "execution_count": null,
      "outputs": []
    },
    {
      "cell_type": "code",
      "metadata": {
        "id": "G8b3Jn7x7lop",
        "colab_type": "code",
        "colab": {
          "base_uri": "https://localhost:8080/",
          "height": 34
        },
        "outputId": "ae8486db-01ff-488e-b4ae-d714ce94d2fc"
      },
      "source": [
        "[wnl.lemmatize(word) for word in word_list]"
      ],
      "execution_count": null,
      "outputs": [
        {
          "output_type": "execute_result",
          "data": {
            "text/plain": [
              "['foot', 'foot', 'foot', 'footing']"
            ]
          },
          "metadata": {
            "tags": []
          },
          "execution_count": 40
        }
      ]
    },
    {
      "cell_type": "code",
      "metadata": {
        "id": "juIFjzkW7nBZ",
        "colab_type": "code",
        "colab": {
          "base_uri": "https://localhost:8080/",
          "height": 34
        },
        "outputId": "7a253451-f57c-4e14-f79e-67f67c5e8c3a"
      },
      "source": [
        "[porter.stem(word) for word in word_list]"
      ],
      "execution_count": null,
      "outputs": [
        {
          "output_type": "execute_result",
          "data": {
            "text/plain": [
              "['feet', 'foot', 'foot', 'foot']"
            ]
          },
          "metadata": {
            "tags": []
          },
          "execution_count": 41
        }
      ]
    },
    {
      "cell_type": "code",
      "metadata": {
        "id": "hO3Xk-M47ogi",
        "colab_type": "code",
        "colab": {}
      },
      "source": [
        "import spacy"
      ],
      "execution_count": null,
      "outputs": []
    },
    {
      "cell_type": "code",
      "metadata": {
        "id": "BG18Bdpz8gvX",
        "colab_type": "code",
        "colab": {}
      },
      "source": [
        "from spacy.lemmatizer import Lemmatizer\n",
        "from spacy.lookups import Lookups\n",
        "lookups = Lookups()\n",
        "lemmatizer = Lemmatizer(lookups)"
      ],
      "execution_count": null,
      "outputs": []
    },
    {
      "cell_type": "code",
      "metadata": {
        "id": "FLAWrZiY8ios",
        "colab_type": "code",
        "colab": {
          "base_uri": "https://localhost:8080/",
          "height": 34
        },
        "outputId": "9222374d-8152-4f9a-fe64-34476a057fce"
      },
      "source": [
        "[lemmatizer.lookup(word) for word in word_list]"
      ],
      "execution_count": null,
      "outputs": [
        {
          "output_type": "execute_result",
          "data": {
            "text/plain": [
              "['feet', 'foot', 'foots', 'footing']"
            ]
          },
          "metadata": {
            "tags": []
          },
          "execution_count": 44
        }
      ]
    },
    {
      "cell_type": "code",
      "metadata": {
        "id": "7RHGASKe863e",
        "colab_type": "code",
        "colab": {}
      },
      "source": [
        "from sklearn.feature_extraction.text import CountVectorizer, TfidfVectorizer\n",
        "import nltk"
      ],
      "execution_count": null,
      "outputs": []
    },
    {
      "cell_type": "markdown",
      "metadata": {
        "id": "1LXbrDO1OSls",
        "colab_type": "text"
      },
      "source": [
        "### Get our vector\n",
        "scikit learn has a method that will extract all the word counts for us, which call CountVectorizer"
      ]
    },
    {
      "cell_type": "code",
      "metadata": {
        "id": "Q6RmvaS-FRg_",
        "colab_type": "code",
        "colab": {
          "base_uri": "https://localhost:8080/",
          "height": 119
        },
        "outputId": "cbb15515-a244-4d74-e067-3bb8cac732eb"
      },
      "source": [
        "vectorizer = CountVectorizer(stop_words='english') #, tokenizer=LemmaTokenizer())\n",
        "vectorizer"
      ],
      "execution_count": null,
      "outputs": [
        {
          "output_type": "execute_result",
          "data": {
            "text/plain": [
              "CountVectorizer(analyzer='word', binary=False, decode_error='strict',\n",
              "                dtype=<class 'numpy.int64'>, encoding='utf-8', input='content',\n",
              "                lowercase=True, max_df=1.0, max_features=None, min_df=1,\n",
              "                ngram_range=(1, 1), preprocessor=None, stop_words='english',\n",
              "                strip_accents=None, token_pattern='(?u)\\\\b\\\\w\\\\w+\\\\b',\n",
              "                tokenizer=None, vocabulary=None)"
            ]
          },
          "metadata": {
            "tags": []
          },
          "execution_count": 47
        }
      ]
    },
    {
      "cell_type": "markdown",
      "metadata": {
        "id": "ZOJqW642P3KM",
        "colab_type": "text"
      },
      "source": [
        "#### **.todense** \n",
        "returns a matrix. and toarray returns an ndarray;If you want a matrix, use todense; otherwise, use toarray.\n",
        "\n",
        "即将矩阵显示出来\n"
      ]
    },
    {
      "cell_type": "code",
      "metadata": {
        "id": "-t4LZ9J7PC8E",
        "colab_type": "code",
        "colab": {
          "base_uri": "https://localhost:8080/",
          "height": 136
        },
        "outputId": "b468a6db-4ba9-4f30-f5c6-c819c5b6fb27"
      },
      "source": [
        "vectors = vectorizer.fit_transform(newsgroups_train.data).todense()\n",
        "vectors"
      ],
      "execution_count": null,
      "outputs": [
        {
          "output_type": "execute_result",
          "data": {
            "text/plain": [
              "matrix([[0, 0, 0, ..., 0, 0, 0],\n",
              "        [0, 0, 0, ..., 0, 0, 0],\n",
              "        [0, 0, 0, ..., 0, 0, 0],\n",
              "        ...,\n",
              "        [0, 0, 0, ..., 0, 0, 0],\n",
              "        [0, 0, 0, ..., 0, 0, 0],\n",
              "        [0, 0, 0, ..., 0, 0, 0]])"
            ]
          },
          "metadata": {
            "tags": []
          },
          "execution_count": 63
        }
      ]
    },
    {
      "cell_type": "code",
      "metadata": {
        "id": "OQmHQHkQ-39R",
        "colab_type": "code",
        "colab": {
          "base_uri": "https://localhost:8080/",
          "height": 34
        },
        "outputId": "5681d9a8-67b9-4bf9-da6b-ab03e3cb3c1f"
      },
      "source": [
        "vectors = vectorizer.fit_transform(newsgroups_train.data).todense() # (documents, vocab)\n",
        "vectors.shape #, vectors.nnz / vectors.shape[0], row_means.shape\n",
        "print(len(newsgroups_train.data), vectors.shape)"
      ],
      "execution_count": null,
      "outputs": [
        {
          "output_type": "stream",
          "text": [
            "2034 (2034, 26576)\n"
          ],
          "name": "stdout"
        }
      ]
    },
    {
      "cell_type": "markdown",
      "metadata": {
        "id": "bor4AbJfOe3o",
        "colab_type": "text"
      },
      "source": [
        "Vocab will have 26576 feature. So it will be a quite sparse matrix "
      ]
    },
    {
      "cell_type": "code",
      "metadata": {
        "id": "50PMt8fr_DPU",
        "colab_type": "code",
        "colab": {
          "base_uri": "https://localhost:8080/",
          "height": 34
        },
        "outputId": "80ad60dd-5169-4238-8858-e182176d2b16"
      },
      "source": [
        "vectors[0].shape"
      ],
      "execution_count": null,
      "outputs": [
        {
          "output_type": "execute_result",
          "data": {
            "text/plain": [
              "(1, 26576)"
            ]
          },
          "metadata": {
            "tags": []
          },
          "execution_count": 59
        }
      ]
    },
    {
      "cell_type": "code",
      "metadata": {
        "id": "R17qLGDB_Kp_",
        "colab_type": "code",
        "colab": {
          "base_uri": "https://localhost:8080/",
          "height": 34
        },
        "outputId": "f23f1d6f-d9c8-472d-98cc-120c0d25c284"
      },
      "source": [
        "vocab = np.array(vectorizer.get_feature_names())\n",
        "vocab.shape"
      ],
      "execution_count": null,
      "outputs": [
        {
          "output_type": "execute_result",
          "data": {
            "text/plain": [
              "(26576,)"
            ]
          },
          "metadata": {
            "tags": []
          },
          "execution_count": 61
        }
      ]
    },
    {
      "cell_type": "markdown",
      "metadata": {
        "id": "jfgMn_x5QeAi",
        "colab_type": "text"
      },
      "source": [
        "### Singular Value Decomposition (SVD)\n",
        "\n",
        "The SVD algorithm factorizes a matrix into one matrix with **orthogonal columns** and one with **orthogonal rows** (between with a diagonal matrix, which contains the relative importance of each factor)."
      ]
    },
    {
      "cell_type": "markdown",
      "metadata": {
        "id": "3-Tz3DyuQ_7k",
        "colab_type": "text"
      },
      "source": [
        "SVD is an exact decomposition, since the matrices it creates are big enough to fully cover the original matrix.   \n",
        "SVD is extremely widely used in linear algebra, and specifically in data science, including:\n",
        "- semantic analysis\n",
        "- collaborative filtering/recommendations (winning entry for Netflix Prize)\n",
        "- calculate Moore-Penrose pseudoinverse\n",
        "- data compression\n",
        "- principal component analysis (PCA)"
      ]
    },
    {
      "cell_type": "code",
      "metadata": {
        "id": "FodZWBG4RU_m",
        "colab_type": "code",
        "colab": {
          "base_uri": "https://localhost:8080/",
          "height": 51
        },
        "outputId": "097571a2-186b-436a-bfe6-50c509a40b0f"
      },
      "source": [
        "%time U, s, Vh = linalg.svd(vectors, full_matrices=False)"
      ],
      "execution_count": null,
      "outputs": [
        {
          "output_type": "stream",
          "text": [
            "CPU times: user 1min 14s, sys: 3.91 s, total: 1min 18s\n",
            "Wall time: 40.7 s\n"
          ],
          "name": "stdout"
        }
      ]
    },
    {
      "cell_type": "code",
      "metadata": {
        "id": "dpuOfs8NRWDk",
        "colab_type": "code",
        "colab": {
          "base_uri": "https://localhost:8080/",
          "height": 34
        },
        "outputId": "4e622bb9-d6d7-437d-e8d2-34da962d1dc7"
      },
      "source": [
        "print(U.shape, s.shape, Vh.shape)\n",
        "# (2034, 2034) (2034,) (2034, 26576)\n",
        "# 2034: document number\n",
        "# 26576: vocab number"
      ],
      "execution_count": null,
      "outputs": [
        {
          "output_type": "stream",
          "text": [
            "(2034, 2034) (2034,) (2034, 26576)\n"
          ],
          "name": "stdout"
        }
      ]
    },
    {
      "cell_type": "markdown",
      "metadata": {
        "id": "NoT0oqDfRunK",
        "colab_type": "text"
      },
      "source": [
        "Confirm this is a decomposition of the input."
      ]
    },
    {
      "cell_type": "code",
      "metadata": {
        "id": "sEnPt9GsRrnD",
        "colab_type": "code",
        "colab": {
          "base_uri": "https://localhost:8080/",
          "height": 34
        },
        "outputId": "afcd0e64-ae53-4ae6-9f7b-b81146693926"
      },
      "source": [
        "s[:4]"
      ],
      "execution_count": null,
      "outputs": [
        {
          "output_type": "execute_result",
          "data": {
            "text/plain": [
              "array([433.92698542, 291.51012741, 240.71137677, 220.00048043])"
            ]
          },
          "metadata": {
            "tags": []
          },
          "execution_count": 67
        }
      ]
    },
    {
      "cell_type": "code",
      "metadata": {
        "id": "rcRslJU-Rwh4",
        "colab_type": "code",
        "colab": {
          "base_uri": "https://localhost:8080/",
          "height": 85
        },
        "outputId": "eccea7b1-6524-4f26-9071-6da8bf4ca50a"
      },
      "source": [
        "np.diag(s[:4])"
      ],
      "execution_count": null,
      "outputs": [
        {
          "output_type": "execute_result",
          "data": {
            "text/plain": [
              "array([[433.92698542,   0.        ,   0.        ,   0.        ],\n",
              "       [  0.        , 291.51012741,   0.        ,   0.        ],\n",
              "       [  0.        ,   0.        , 240.71137677,   0.        ],\n",
              "       [  0.        ,   0.        ,   0.        , 220.00048043]])"
            ]
          },
          "metadata": {
            "tags": []
          },
          "execution_count": 76
        }
      ]
    },
    {
      "cell_type": "markdown",
      "metadata": {
        "id": "wiaZr3yHR4N2",
        "colab_type": "text"
      },
      "source": [
        "Confrim that U, s, Vh is a decomposition of `vectors`"
      ]
    },
    {
      "cell_type": "code",
      "metadata": {
        "id": "hjPmLbaZRyiH",
        "colab_type": "code",
        "colab": {
          "base_uri": "https://localhost:8080/",
          "height": 34
        },
        "outputId": "730c5215-13c3-4de1-9160-3b91b14b1f67"
      },
      "source": [
        "reconstruct_vector1 = np.dot(U, np.diag(s))\n",
        "reconstruct_vector = np.dot(reconstruct_vector1, Vh)\n",
        "np.allclose(reconstruct_vector, vectors)"
      ],
      "execution_count": null,
      "outputs": [
        {
          "output_type": "execute_result",
          "data": {
            "text/plain": [
              "True"
            ]
          },
          "metadata": {
            "tags": []
          },
          "execution_count": 78
        }
      ]
    },
    {
      "cell_type": "markdown",
      "metadata": {
        "id": "ovyuMyu3TXca",
        "colab_type": "text"
      },
      "source": [
        "Confirm that U, Vh are orthonormal"
      ]
    },
    {
      "cell_type": "code",
      "metadata": {
        "id": "NcbWuwMRSs_w",
        "colab_type": "code",
        "colab": {
          "base_uri": "https://localhost:8080/",
          "height": 34
        },
        "outputId": "8acbf819-942c-4718-d5dd-7bde3ed04453"
      },
      "source": [
        "np.allclose(U.T @ U, np.eye(U.shape[0]))\n",
        "np.allclose(Vh @ Vh.T, np.eye(Vh.shape[0]))"
      ],
      "execution_count": null,
      "outputs": [
        {
          "output_type": "execute_result",
          "data": {
            "text/plain": [
              "True"
            ]
          },
          "metadata": {
            "tags": []
          },
          "execution_count": 80
        }
      ]
    },
    {
      "cell_type": "code",
      "metadata": {
        "id": "_ma2t8BnToDp",
        "colab_type": "code",
        "colab": {
          "base_uri": "https://localhost:8080/",
          "height": 282
        },
        "outputId": "8b6edfa4-e05e-4bda-c894-c43bec325da1"
      },
      "source": [
        "plt.plot(s)"
      ],
      "execution_count": null,
      "outputs": [
        {
          "output_type": "execute_result",
          "data": {
            "text/plain": [
              "[<matplotlib.lines.Line2D at 0x7f30d1b2d7b8>]"
            ]
          },
          "metadata": {
            "tags": []
          },
          "execution_count": 83
        },
        {
          "output_type": "display_data",
          "data": {
            "image/png": "[encoded data removed]",
            "text/plain": [
              "<Figure size 432x288 with 1 Axes>"
            ]
          },
          "metadata": {
            "tags": [],
            "needs_background": "light"
          }
        }
      ]
    },
    {
      "cell_type": "code",
      "metadata": {
        "id": "ehPLw5deiP-X",
        "colab_type": "code",
        "colab": {
          "base_uri": "https://localhost:8080/",
          "height": 34
        },
        "outputId": "76ffc1cf-9c47-4df6-f907-d29b7d8cc3f8"
      },
      "source": [
        "Vh[:5].shape"
      ],
      "execution_count": null,
      "outputs": [
        {
          "output_type": "execute_result",
          "data": {
            "text/plain": [
              "(5, 26576)"
            ]
          },
          "metadata": {
            "tags": []
          },
          "execution_count": 102
        }
      ]
    },
    {
      "cell_type": "code",
      "metadata": {
        "id": "P2uPQ5dSTxgD",
        "colab_type": "code",
        "colab": {}
      },
      "source": [
        "num_top_words=8\n",
        "\n",
        "def show_topics(a):\n",
        "    top_words = lambda t: [vocab[i] for i in np.argsort(t)[:-num_top_words-1:-1]]\n",
        "    topic_words = ([top_words(t) for t in a])\n",
        "    return [' '.join(t) for t in topic_words]"
      ],
      "execution_count": null,
      "outputs": []
    },
    {
      "cell_type": "code",
      "metadata": {
        "id": "0RYGAbtoUtmg",
        "colab_type": "code",
        "colab": {
          "base_uri": "https://localhost:8080/",
          "height": 102
        },
        "outputId": "6e45773e-d876-4626-c2bf-58758003b9ce"
      },
      "source": [
        "show_topics(Vh[:5])"
      ],
      "execution_count": null,
      "outputs": [
        {
          "output_type": "execute_result",
          "data": {
            "text/plain": [
              "['ditto critus propagandist surname galacticentric kindergarten surreal imaginative',\n",
              " 'jpeg gif file color quality image jfif format',\n",
              " 'graphics edu pub mail 128 3d ray ftp',\n",
              " 'jesus god matthew people atheists atheism does graphics',\n",
              " 'image data processing analysis software available tools display']"
            ]
          },
          "metadata": {
            "tags": []
          },
          "execution_count": 87
        }
      ]
    },
    {
      "cell_type": "code",
      "metadata": {
        "id": "5RyUUFP3Uwle",
        "colab_type": "code",
        "colab": {
          "base_uri": "https://localhost:8080/",
          "height": 34
        },
        "outputId": "55f89feb-a149-499f-de55-b829b89fc9c6"
      },
      "source": [
        "vectors.shape"
      ],
      "execution_count": null,
      "outputs": [
        {
          "output_type": "execute_result",
          "data": {
            "text/plain": [
              "(2034, 26576)"
            ]
          },
          "metadata": {
            "tags": []
          },
          "execution_count": 89
        }
      ]
    },
    {
      "cell_type": "markdown",
      "metadata": {
        "id": "tAQRYMmqenf1",
        "colab_type": "text"
      },
      "source": [
        "### NMF"
      ]
    },
    {
      "cell_type": "code",
      "metadata": {
        "id": "YVZrcQOoaBjR",
        "colab_type": "code",
        "colab": {}
      },
      "source": [
        "m,n=vectors.shape\n",
        "d=5  # num topics"
      ],
      "execution_count": null,
      "outputs": []
    },
    {
      "cell_type": "code",
      "metadata": {
        "id": "Ghix_ehDexU_",
        "colab_type": "code",
        "colab": {
          "base_uri": "https://localhost:8080/",
          "height": 34
        },
        "outputId": "e56f0b81-a73f-4675-9102-43df121ded84"
      },
      "source": [
        "# vectors.T.shape"
      ],
      "execution_count": null,
      "outputs": [
        {
          "output_type": "execute_result",
          "data": {
            "text/plain": [
              "(26576, 2034)"
            ]
          },
          "metadata": {
            "tags": []
          },
          "execution_count": 94
        }
      ]
    },
    {
      "cell_type": "code",
      "metadata": {
        "id": "xvtKKcTyettd",
        "colab_type": "code",
        "colab": {}
      },
      "source": [
        "clf = decomposition.NMF(n_components=d, random_state=1)\n",
        "\n",
        "W1 = clf.fit_transform(vectors)\n",
        "H1 = clf.components_"
      ],
      "execution_count": null,
      "outputs": []
    },
    {
      "cell_type": "code",
      "metadata": {
        "id": "AG3cU8VFfSBZ",
        "colab_type": "code",
        "colab": {
          "base_uri": "https://localhost:8080/",
          "height": 34
        },
        "outputId": "25281d36-0e50-4f12-ec19-c6ba09b7948b"
      },
      "source": [
        "print(W1.shape, H1.shape)"
      ],
      "execution_count": null,
      "outputs": [
        {
          "output_type": "stream",
          "text": [
            "(2034, 5) (5, 26576)\n"
          ],
          "name": "stdout"
        }
      ]
    },
    {
      "cell_type": "code",
      "metadata": {
        "id": "70tt4kBbevLu",
        "colab_type": "code",
        "colab": {
          "base_uri": "https://localhost:8080/",
          "height": 102
        },
        "outputId": "b47ba781-4ddd-4eb9-f92c-575d9e0da0dc"
      },
      "source": [
        "show_topics(H1)"
      ],
      "execution_count": null,
      "outputs": [
        {
          "output_type": "execute_result",
          "data": {
            "text/plain": [
              "['jpeg image gif file color images format quality',\n",
              " 'edu graphics pub mail 128 ray ftp send',\n",
              " 'space launch satellite nasa commercial satellites year market',\n",
              " 'jesus god people matthew atheists does atheism said',\n",
              " 'image data available software processing ftp edu analysis']"
            ]
          },
          "metadata": {
            "tags": []
          },
          "execution_count": 99
        }
      ]
    },
    {
      "cell_type": "markdown",
      "metadata": {
        "id": "y4QZ33tl4WMn",
        "colab_type": "text"
      },
      "source": [
        "### Other small demo of LSA for looking the insight"
      ]
    },
    {
      "cell_type": "code",
      "metadata": {
        "id": "5SRFlGfY4Uq-",
        "colab_type": "code",
        "colab": {}
      },
      "source": [
        "from sklearn.decomposition import TruncatedSVD           # namely LSA/LSI(即潜在语义分析)\n",
        "from sklearn.feature_extraction.text import TfidfVectorizer\n",
        "import numpy as np"
      ],
      "execution_count": null,
      "outputs": []
    },
    {
      "cell_type": "code",
      "metadata": {
        "id": "kVY93ALz4boz",
        "colab_type": "code",
        "colab": {
          "base_uri": "https://localhost:8080/",
          "height": 408
        },
        "outputId": "9608d96c-5fd7-40a6-9534-f8acd54395c5"
      },
      "source": [
        "docs = [\"In the middle of the night\",\n",
        "        \"When our hopes and fears collide\",\n",
        "        \"In the midst of all goodbyes\",\n",
        "        \"Where all human beings lie\",\n",
        "        \"Against another lie\"]\n",
        "vectorizer = TfidfVectorizer()\n",
        "X = vectorizer.fit_transform(docs).todense()\n",
        "terms = vectorizer.get_feature_names()\n",
        "print(X.shape, type(X))\n",
        "print(X)\n",
        "print(X.tolist()[0][0])\n",
        "print(len(terms), terms)"
      ],
      "execution_count": null,
      "outputs": [
        {
          "output_type": "stream",
          "text": [
            "(5, 20) <class 'numpy.matrix'>\n",
            "[[0.         0.         0.         0.         0.         0.\n",
            "  0.         0.         0.         0.         0.3319971  0.\n",
            "  0.41150185 0.         0.41150185 0.3319971  0.         0.6639942\n",
            "  0.         0.        ]\n",
            " [0.         0.         0.40824829 0.         0.         0.40824829\n",
            "  0.40824829 0.         0.40824829 0.         0.         0.\n",
            "  0.         0.         0.         0.         0.40824829 0.\n",
            "  0.40824829 0.        ]\n",
            " [0.         0.37601977 0.         0.         0.         0.\n",
            "  0.         0.46606681 0.         0.         0.37601977 0.\n",
            "  0.         0.46606681 0.         0.37601977 0.         0.37601977\n",
            "  0.         0.        ]\n",
            " [0.         0.38898761 0.         0.         0.48214012 0.\n",
            "  0.         0.         0.         0.48214012 0.         0.38898761\n",
            "  0.         0.         0.         0.         0.         0.\n",
            "  0.         0.48214012]\n",
            " [0.61418897 0.         0.         0.61418897 0.         0.\n",
            "  0.         0.         0.         0.         0.         0.49552379\n",
            "  0.         0.         0.         0.         0.         0.\n",
            "  0.         0.        ]]\n",
            "0.0\n",
            "20 ['against', 'all', 'and', 'another', 'beings', 'collide', 'fears', 'goodbyes', 'hopes', 'human', 'in', 'lie', 'middle', 'midst', 'night', 'of', 'our', 'the', 'when', 'where']\n"
          ],
          "name": "stdout"
        }
      ]
    },
    {
      "cell_type": "code",
      "metadata": {
        "id": "7Zhw9fPs6sDu",
        "colab_type": "code",
        "colab": {
          "base_uri": "https://localhost:8080/",
          "height": 136
        },
        "outputId": "73aa493a-82da-4974-da45-1a30166f3019"
      },
      "source": [
        "n_pick_topics = 3            # 设定主题数为3\n",
        "lsa = TruncatedSVD(n_pick_topics)               \n",
        "X2 = lsa.fit_transform(X)\n",
        "print(lsa)\n",
        "X2"
      ],
      "execution_count": null,
      "outputs": [
        {
          "output_type": "stream",
          "text": [
            "TruncatedSVD(algorithm='randomized', n_components=3, n_iter=5,\n",
            "             random_state=None, tol=0.0)\n"
          ],
          "name": "stdout"
        },
        {
          "output_type": "execute_result",
          "data": {
            "text/plain": [
              "array([[ 0.8266298 , -0.2469059 , -0.        ],\n",
              "       [ 0.        ,  0.        ,  1.        ],\n",
              "       [ 0.86668208, -0.09090296,  0.        ],\n",
              "       [ 0.28009907,  0.72866996, -0.        ],\n",
              "       [ 0.10312364,  0.76397584, -0.        ]])"
            ]
          },
          "metadata": {
            "tags": []
          },
          "execution_count": 130
        }
      ]
    },
    {
      "cell_type": "markdown",
      "metadata": {
        "id": "TsEl7BoZ9kI8",
        "colab_type": "text"
      },
      "source": [
        "X2[i,t]为第i篇文档在第t个主题上的分布，所以该值越高的文档i，可以认为在主题t上更有代表性，我们便以此筛选出最能代表该主题的**2篇文档**。"
      ]
    },
    {
      "cell_type": "code",
      "metadata": {
        "id": "qulimJWm79Nj",
        "colab_type": "code",
        "colab": {
          "base_uri": "https://localhost:8080/",
          "height": 34
        },
        "outputId": "24d84672-9d16-4217-a662-fef2c5c5fffa"
      },
      "source": [
        "n_pick_docs= 2\n",
        "topic_docs_id = [X2[:,t].argsort()[:-(n_pick_docs+1):-1] for t in range(n_pick_topics)] # [:-(n_pick_docs+!):-1] 为切片操作， 选后两个元素\n",
        "topic_docs_id"
      ],
      "execution_count": null,
      "outputs": [
        {
          "output_type": "execute_result",
          "data": {
            "text/plain": [
              "[array([2, 0]), array([4, 3]), array([1, 2])]"
            ]
          },
          "metadata": {
            "tags": []
          },
          "execution_count": 133
        }
      ]
    },
    {
      "cell_type": "markdown",
      "metadata": {
        "id": "_-l6c0P-9twX",
        "colab_type": "text"
      },
      "source": [
        "lsa.components_ 为规模为(主题数，词汇数)的矩阵,其(t,j)位置的元素代表了词语j在主题t上的权重，同样以此获得主题关键词： **这里我们选最重要的4个**"
      ]
    },
    {
      "cell_type": "code",
      "metadata": {
        "id": "Mu0gpAjl9X2T",
        "colab_type": "code",
        "colab": {
          "base_uri": "https://localhost:8080/",
          "height": 34
        },
        "outputId": "50b68b2d-4b70-489b-ed5b-1e1b78350794"
      },
      "source": [
        "n_pick_keywords = 4\n",
        "topic_keywords_id = [lsa.components_[t].argsort()[:-(n_pick_keywords+1):-1] for t in range(n_pick_topics)]\n",
        "topic_keywords_id"
      ],
      "execution_count": null,
      "outputs": [
        {
          "output_type": "execute_result",
          "data": {
            "text/plain": [
              "[array([17, 15, 10,  1]), array([11,  0,  3, 19]), array([ 2, 18,  5, 16])]"
            ]
          },
          "metadata": {
            "tags": []
          },
          "execution_count": 134
        }
      ]
    },
    {
      "cell_type": "markdown",
      "metadata": {
        "id": "79tOLaz09-46",
        "colab_type": "text"
      },
      "source": [
        "summary"
      ]
    },
    {
      "cell_type": "code",
      "metadata": {
        "id": "qCgOW6K0-AFb",
        "colab_type": "code",
        "colab": {
          "base_uri": "https://localhost:8080/",
          "height": 323
        },
        "outputId": "620ce257-c168-4a7f-ee7b-ed41ad8c9144"
      },
      "source": [
        "for t in range(n_pick_topics):\n",
        "    print(\"topic %d:\" % t)\n",
        "    print(\"    keywords: %s\" % \", \".join(terms[topic_keywords_id[t][j]] for j in range(n_pick_keywords)))\n",
        "    for i in range(n_pick_docs):\n",
        "        print(\"    doc %d\" % i)\n",
        "        print(\"\\t\"+docs[topic_docs_id[t][i]])"
      ],
      "execution_count": null,
      "outputs": [
        {
          "output_type": "stream",
          "text": [
            "topic 0:\n",
            "    keywords: the, of, in, all\n",
            "    doc 0\n",
            "\tIn the midst of all goodbyes\n",
            "    doc 1\n",
            "\tIn the middle of the night\n",
            "topic 1:\n",
            "    keywords: lie, against, another, where\n",
            "    doc 0\n",
            "\tAgainst another lie\n",
            "    doc 1\n",
            "\tWhere all human beings lie\n",
            "topic 2:\n",
            "    keywords: and, when, collide, our\n",
            "    doc 0\n",
            "\tWhen our hopes and fears collide\n",
            "    doc 1\n",
            "\tIn the midst of all goodbyes\n"
          ],
          "name": "stdout"
        }
      ]
    },
    {
      "cell_type": "markdown",
      "metadata": {
        "id": "fdd0wCVzL0J2",
        "colab_type": "text"
      },
      "source": [
        "### Some Reference\n",
        "**Additional Resources**\n",
        "- Data source: Newsgroups are discussion groups on Usenet, which was popular in the 80s and 90s before the web really took off. This dataset includes 18,000 newsgroups posts with 20 topics.\n",
        "- Chris Manning's book chapter on matrix factorization and LSI\n",
        "- Scikit learn truncated SVD LSI details\n",
        "\n",
        "**Other Tutorials**\n",
        "- Scikit-Learn: Out-of-core classification of text documents: uses Reuters-21578 dataset (Reuters articles labeled with ~100 categories), HashingVectorizer\n",
        "- Text Analysis with Topic Models for the Humanities and Social Sciences: uses British and French Literature dataset of Jane Austen, Charlotte Bronte, Victor Hugo, and more"
      ]
    }
  ]
}